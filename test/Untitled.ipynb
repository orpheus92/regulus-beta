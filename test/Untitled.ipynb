{
 "cells": [
  {
   "cell_type": "code",
   "execution_count": 1,
   "metadata": {},
   "outputs": [],
   "source": [
    "import numpy as np"
   ]
  },
  {
   "cell_type": "code",
   "execution_count": 2,
   "metadata": {},
   "outputs": [],
   "source": [
    "import pandas as pd"
   ]
  },
  {
   "cell_type": "code",
   "execution_count": 3,
   "metadata": {},
   "outputs": [],
   "source": [
    "from bokeh.plotting import figure, show, output_file\n",
    "from bokeh.palettes import brewer"
   ]
  },
  {
   "cell_type": "code",
   "execution_count": 5,
   "metadata": {},
   "outputs": [],
   "source": [
    "N = 20\n",
    "categories = ['y' + str(x) for x in range(10)]\n",
    "data = {}\n",
    "data['x'] = np.arange(N)\n",
    "for cat in categories:\n",
    "    data[cat] = np.random.randint(10, 100, size=N)\n",
    "\n",
    "df = pd.DataFrame(data)\n",
    "df = df.set_index(['x'])\n",
    "\n",
    "def stacked(df, categories):\n",
    "    areas = dict()\n",
    "    last = np.zeros(len(df))\n",
    "    for cat in categories:\n",
    "        next = last + df[cat]\n",
    "        areas[cat] = np.hstack((last[::-1], next))\n",
    "        last = next\n",
    "    return areas\n",
    "\n",
    "areas = stacked(df, categories)\n",
    "\n",
    "colors = brewer[\"Spectral\"][len(areas)]\n",
    "\n",
    "x2 = np.hstack((data['x'][::-1], data['x']))\n",
    "\n",
    "p = figure(x_range=(0, 19), y_range=(0, 800))\n",
    "p.grid.minor_grid_line_color = '#eeeeee'\n",
    "\n",
    "p.patches([x2] * len(areas), [areas[cat] for cat in categories],\n",
    "          color=colors, alpha=0.8, line_color=None)\n",
    "\n",
    "output_file(\"brewer.html\", title=\"brewer.py example\")\n",
    "\n",
    "show(p)"
   ]
  },
  {
   "cell_type": "code",
   "execution_count": 6,
   "metadata": {},
   "outputs": [],
   "source": [
    "from bokeh.io import push_notebook, show, output_notebook"
   ]
  },
  {
   "cell_type": "code",
   "execution_count": 7,
   "metadata": {},
   "outputs": [],
   "source": [
    "from bokeh.layouts import row"
   ]
  },
  {
   "cell_type": "code",
   "execution_count": 9,
   "metadata": {},
   "outputs": [],
   "source": [
    "from bokeh.plotting import figure"
   ]
  },
  {
   "cell_type": "code",
   "execution_count": 10,
   "metadata": {},
   "outputs": [
    {
     "data": {
      "text/html": [
       "\n",
       "    <div class=\"bk-root\">\n",
       "        <a href=\"https://bokeh.pydata.org\" target=\"_blank\" class=\"bk-logo bk-logo-small bk-logo-notebook\"></a>\n",
       "        <span id=\"9baa0245-f6b2-4b36-b21a-4f294340ecc4\">Loading BokehJS ...</span>\n",
       "    </div>"
      ]
     },
     "metadata": {},
     "output_type": "display_data"
    },
    {
     "data": {
      "application/javascript": [
       "\n",
       "(function(root) {\n",
       "  function now() {\n",
       "    return new Date();\n",
       "  }\n",
       "\n",
       "  var force = true;\n",
       "\n",
       "  if (typeof (root._bokeh_onload_callbacks) === \"undefined\" || force === true) {\n",
       "    root._bokeh_onload_callbacks = [];\n",
       "    root._bokeh_is_loading = undefined;\n",
       "  }\n",
       "\n",
       "  var JS_MIME_TYPE = 'application/javascript';\n",
       "  var HTML_MIME_TYPE = 'text/html';\n",
       "  var EXEC_MIME_TYPE = 'application/vnd.bokehjs_exec.v0+json';\n",
       "  var CLASS_NAME = 'output_bokeh rendered_html';\n",
       "\n",
       "  /**\n",
       "   * Render data to the DOM node\n",
       "   */\n",
       "  function render(props, node) {\n",
       "    var script = document.createElement(\"script\");\n",
       "    node.appendChild(script);\n",
       "  }\n",
       "\n",
       "  /**\n",
       "   * Handle when an output is cleared or removed\n",
       "   */\n",
       "  function handleClearOutput(event, handle) {\n",
       "    var cell = handle.cell;\n",
       "\n",
       "    var id = cell.output_area._bokeh_element_id;\n",
       "    var server_id = cell.output_area._bokeh_server_id;\n",
       "    // Clean up Bokeh references\n",
       "    if (id !== undefined) {\n",
       "      Bokeh.index[id].model.document.clear();\n",
       "      delete Bokeh.index[id];\n",
       "    }\n",
       "\n",
       "    if (server_id !== undefined) {\n",
       "      // Clean up Bokeh references\n",
       "      var cmd = \"from bokeh.io import _state; print(_state.uuid_to_server['\" + server_id + \"'].get_sessions()[0].document.roots[0]._id)\";\n",
       "      cell.notebook.kernel.execute(cmd, {\n",
       "        iopub: {\n",
       "          output: function(msg) {\n",
       "            var element_id = msg.content.text.trim();\n",
       "            Bokeh.index[element_id].model.document.clear();\n",
       "            delete Bokeh.index[element_id];\n",
       "          }\n",
       "        }\n",
       "      });\n",
       "      // Destroy server and session\n",
       "      var cmd = \"from bokeh import io; io._destroy_server('\" + server_id + \"')\";\n",
       "      cell.notebook.kernel.execute(cmd);\n",
       "    }\n",
       "  }\n",
       "\n",
       "  /**\n",
       "   * Handle when a new output is added\n",
       "   */\n",
       "  function handleAddOutput(event, handle) {\n",
       "    var output_area = handle.output_area;\n",
       "    var output = handle.output;\n",
       "\n",
       "    // limit handleAddOutput to display_data with EXEC_MIME_TYPE content only\n",
       "    if ((output.output_type != \"display_data\") || (!output.data.hasOwnProperty(EXEC_MIME_TYPE))) {\n",
       "      return\n",
       "    }\n",
       "\n",
       "    var toinsert = output_area.element.find(`.${CLASS_NAME.split(' ')[0]}`);\n",
       "\n",
       "    if (output.metadata[EXEC_MIME_TYPE][\"id\"] !== undefined) {\n",
       "      toinsert[0].firstChild.textContent = output.data[JS_MIME_TYPE];\n",
       "      // store reference to embed id on output_area\n",
       "      output_area._bokeh_element_id = output.metadata[EXEC_MIME_TYPE][\"id\"];\n",
       "    }\n",
       "    if (output.metadata[EXEC_MIME_TYPE][\"server_id\"] !== undefined) {\n",
       "      var bk_div = document.createElement(\"div\");\n",
       "      bk_div.innerHTML = output.data[HTML_MIME_TYPE];\n",
       "      var script_attrs = bk_div.children[0].attributes;\n",
       "      for (var i = 0; i < script_attrs.length; i++) {\n",
       "        toinsert[0].firstChild.setAttribute(script_attrs[i].name, script_attrs[i].value);\n",
       "      }\n",
       "      // store reference to server id on output_area\n",
       "      output_area._bokeh_server_id = output.metadata[EXEC_MIME_TYPE][\"server_id\"];\n",
       "    }\n",
       "  }\n",
       "\n",
       "  function register_renderer(events, OutputArea) {\n",
       "\n",
       "    function append_mime(data, metadata, element) {\n",
       "      // create a DOM node to render to\n",
       "      var toinsert = this.create_output_subarea(\n",
       "        metadata,\n",
       "        CLASS_NAME,\n",
       "        EXEC_MIME_TYPE\n",
       "      );\n",
       "      this.keyboard_manager.register_events(toinsert);\n",
       "      // Render to node\n",
       "      var props = {data: data, metadata: metadata[EXEC_MIME_TYPE]};\n",
       "      render(props, toinsert[0]);\n",
       "      element.append(toinsert);\n",
       "      return toinsert\n",
       "    }\n",
       "\n",
       "    /* Handle when an output is cleared or removed */\n",
       "    events.on('clear_output.CodeCell', handleClearOutput);\n",
       "    events.on('delete.Cell', handleClearOutput);\n",
       "\n",
       "    /* Handle when a new output is added */\n",
       "    events.on('output_added.OutputArea', handleAddOutput);\n",
       "\n",
       "    /**\n",
       "     * Register the mime type and append_mime function with output_area\n",
       "     */\n",
       "    OutputArea.prototype.register_mime_type(EXEC_MIME_TYPE, append_mime, {\n",
       "      /* Is output safe? */\n",
       "      safe: true,\n",
       "      /* Index of renderer in `output_area.display_order` */\n",
       "      index: 0\n",
       "    });\n",
       "  }\n",
       "\n",
       "  // register the mime type if in Jupyter Notebook environment and previously unregistered\n",
       "  if (root.Jupyter !== undefined) {\n",
       "    var events = require('base/js/events');\n",
       "    var OutputArea = require('notebook/js/outputarea').OutputArea;\n",
       "\n",
       "    if (OutputArea.prototype.mime_types().indexOf(EXEC_MIME_TYPE) == -1) {\n",
       "      register_renderer(events, OutputArea);\n",
       "    }\n",
       "  }\n",
       "\n",
       "  \n",
       "  if (typeof (root._bokeh_timeout) === \"undefined\" || force === true) {\n",
       "    root._bokeh_timeout = Date.now() + 5000;\n",
       "    root._bokeh_failed_load = false;\n",
       "  }\n",
       "\n",
       "  var NB_LOAD_WARNING = {'data': {'text/html':\n",
       "     \"<div style='background-color: #fdd'>\\n\"+\n",
       "     \"<p>\\n\"+\n",
       "     \"BokehJS does not appear to have successfully loaded. If loading BokehJS from CDN, this \\n\"+\n",
       "     \"may be due to a slow or bad network connection. Possible fixes:\\n\"+\n",
       "     \"</p>\\n\"+\n",
       "     \"<ul>\\n\"+\n",
       "     \"<li>re-rerun `output_notebook()` to attempt to load from CDN again, or</li>\\n\"+\n",
       "     \"<li>use INLINE resources instead, as so:</li>\\n\"+\n",
       "     \"</ul>\\n\"+\n",
       "     \"<code>\\n\"+\n",
       "     \"from bokeh.resources import INLINE\\n\"+\n",
       "     \"output_notebook(resources=INLINE)\\n\"+\n",
       "     \"</code>\\n\"+\n",
       "     \"</div>\"}};\n",
       "\n",
       "  function display_loaded() {\n",
       "    var el = document.getElementById(\"9baa0245-f6b2-4b36-b21a-4f294340ecc4\");\n",
       "    if (el != null) {\n",
       "      el.textContent = \"BokehJS is loading...\";\n",
       "    }\n",
       "    if (root.Bokeh !== undefined) {\n",
       "      if (el != null) {\n",
       "        el.textContent = \"BokehJS \" + root.Bokeh.version + \" successfully loaded.\";\n",
       "      }\n",
       "    } else if (Date.now() < root._bokeh_timeout) {\n",
       "      setTimeout(display_loaded, 100)\n",
       "    }\n",
       "  }\n",
       "\n",
       "\n",
       "  function run_callbacks() {\n",
       "    try {\n",
       "      root._bokeh_onload_callbacks.forEach(function(callback) { callback() });\n",
       "    }\n",
       "    finally {\n",
       "      delete root._bokeh_onload_callbacks\n",
       "    }\n",
       "    console.info(\"Bokeh: all callbacks have finished\");\n",
       "  }\n",
       "\n",
       "  function load_libs(js_urls, callback) {\n",
       "    root._bokeh_onload_callbacks.push(callback);\n",
       "    if (root._bokeh_is_loading > 0) {\n",
       "      console.log(\"Bokeh: BokehJS is being loaded, scheduling callback at\", now());\n",
       "      return null;\n",
       "    }\n",
       "    if (js_urls == null || js_urls.length === 0) {\n",
       "      run_callbacks();\n",
       "      return null;\n",
       "    }\n",
       "    console.log(\"Bokeh: BokehJS not loaded, scheduling load and callback at\", now());\n",
       "    root._bokeh_is_loading = js_urls.length;\n",
       "    for (var i = 0; i < js_urls.length; i++) {\n",
       "      var url = js_urls[i];\n",
       "      var s = document.createElement('script');\n",
       "      s.src = url;\n",
       "      s.async = false;\n",
       "      s.onreadystatechange = s.onload = function() {\n",
       "        root._bokeh_is_loading--;\n",
       "        if (root._bokeh_is_loading === 0) {\n",
       "          console.log(\"Bokeh: all BokehJS libraries loaded\");\n",
       "          run_callbacks()\n",
       "        }\n",
       "      };\n",
       "      s.onerror = function() {\n",
       "        console.warn(\"failed to load library \" + url);\n",
       "      };\n",
       "      console.log(\"Bokeh: injecting script tag for BokehJS library: \", url);\n",
       "      document.getElementsByTagName(\"head\")[0].appendChild(s);\n",
       "    }\n",
       "  };var element = document.getElementById(\"9baa0245-f6b2-4b36-b21a-4f294340ecc4\");\n",
       "  if (element == null) {\n",
       "    console.log(\"Bokeh: ERROR: autoload.js configured with elementid '9baa0245-f6b2-4b36-b21a-4f294340ecc4' but no matching script tag was found. \")\n",
       "    return false;\n",
       "  }\n",
       "\n",
       "  var js_urls = [\"https://cdn.pydata.org/bokeh/release/bokeh-0.12.9.min.js\", \"https://cdn.pydata.org/bokeh/release/bokeh-widgets-0.12.9.min.js\", \"https://cdn.pydata.org/bokeh/release/bokeh-tables-0.12.9.min.js\", \"https://cdn.pydata.org/bokeh/release/bokeh-gl-0.12.9.min.js\"];\n",
       "\n",
       "  var inline_js = [\n",
       "    function(Bokeh) {\n",
       "      Bokeh.set_log_level(\"info\");\n",
       "    },\n",
       "    \n",
       "    function(Bokeh) {\n",
       "      \n",
       "    },\n",
       "    function(Bokeh) {\n",
       "      console.log(\"Bokeh: injecting CSS: https://cdn.pydata.org/bokeh/release/bokeh-0.12.9.min.css\");\n",
       "      Bokeh.embed.inject_css(\"https://cdn.pydata.org/bokeh/release/bokeh-0.12.9.min.css\");\n",
       "      console.log(\"Bokeh: injecting CSS: https://cdn.pydata.org/bokeh/release/bokeh-widgets-0.12.9.min.css\");\n",
       "      Bokeh.embed.inject_css(\"https://cdn.pydata.org/bokeh/release/bokeh-widgets-0.12.9.min.css\");\n",
       "      console.log(\"Bokeh: injecting CSS: https://cdn.pydata.org/bokeh/release/bokeh-tables-0.12.9.min.css\");\n",
       "      Bokeh.embed.inject_css(\"https://cdn.pydata.org/bokeh/release/bokeh-tables-0.12.9.min.css\");\n",
       "    }\n",
       "  ];\n",
       "\n",
       "  function run_inline_js() {\n",
       "    \n",
       "    if ((root.Bokeh !== undefined) || (force === true)) {\n",
       "      for (var i = 0; i < inline_js.length; i++) {\n",
       "        inline_js[i].call(root, root.Bokeh);\n",
       "      }if (force === true) {\n",
       "        display_loaded();\n",
       "      }} else if (Date.now() < root._bokeh_timeout) {\n",
       "      setTimeout(run_inline_js, 100);\n",
       "    } else if (!root._bokeh_failed_load) {\n",
       "      console.log(\"Bokeh: BokehJS failed to load within specified timeout.\");\n",
       "      root._bokeh_failed_load = true;\n",
       "    } else if (force !== true) {\n",
       "      var cell = $(document.getElementById(\"9baa0245-f6b2-4b36-b21a-4f294340ecc4\")).parents('.cell').data().cell;\n",
       "      cell.output_area.append_execute_result(NB_LOAD_WARNING)\n",
       "    }\n",
       "\n",
       "  }\n",
       "\n",
       "  if (root._bokeh_is_loading === 0) {\n",
       "    console.log(\"Bokeh: BokehJS loaded, going straight to plotting\");\n",
       "    run_inline_js();\n",
       "  } else {\n",
       "    load_libs(js_urls, function() {\n",
       "      console.log(\"Bokeh: BokehJS plotting callback run at\", now());\n",
       "      run_inline_js();\n",
       "    });\n",
       "  }\n",
       "}(window));"
      ],
      "application/vnd.bokehjs_load.v0+json": "\n(function(root) {\n  function now() {\n    return new Date();\n  }\n\n  var force = true;\n\n  if (typeof (root._bokeh_onload_callbacks) === \"undefined\" || force === true) {\n    root._bokeh_onload_callbacks = [];\n    root._bokeh_is_loading = undefined;\n  }\n\n  \n\n  \n  if (typeof (root._bokeh_timeout) === \"undefined\" || force === true) {\n    root._bokeh_timeout = Date.now() + 5000;\n    root._bokeh_failed_load = false;\n  }\n\n  var NB_LOAD_WARNING = {'data': {'text/html':\n     \"<div style='background-color: #fdd'>\\n\"+\n     \"<p>\\n\"+\n     \"BokehJS does not appear to have successfully loaded. If loading BokehJS from CDN, this \\n\"+\n     \"may be due to a slow or bad network connection. Possible fixes:\\n\"+\n     \"</p>\\n\"+\n     \"<ul>\\n\"+\n     \"<li>re-rerun `output_notebook()` to attempt to load from CDN again, or</li>\\n\"+\n     \"<li>use INLINE resources instead, as so:</li>\\n\"+\n     \"</ul>\\n\"+\n     \"<code>\\n\"+\n     \"from bokeh.resources import INLINE\\n\"+\n     \"output_notebook(resources=INLINE)\\n\"+\n     \"</code>\\n\"+\n     \"</div>\"}};\n\n  function display_loaded() {\n    var el = document.getElementById(\"9baa0245-f6b2-4b36-b21a-4f294340ecc4\");\n    if (el != null) {\n      el.textContent = \"BokehJS is loading...\";\n    }\n    if (root.Bokeh !== undefined) {\n      if (el != null) {\n        el.textContent = \"BokehJS \" + root.Bokeh.version + \" successfully loaded.\";\n      }\n    } else if (Date.now() < root._bokeh_timeout) {\n      setTimeout(display_loaded, 100)\n    }\n  }\n\n\n  function run_callbacks() {\n    try {\n      root._bokeh_onload_callbacks.forEach(function(callback) { callback() });\n    }\n    finally {\n      delete root._bokeh_onload_callbacks\n    }\n    console.info(\"Bokeh: all callbacks have finished\");\n  }\n\n  function load_libs(js_urls, callback) {\n    root._bokeh_onload_callbacks.push(callback);\n    if (root._bokeh_is_loading > 0) {\n      console.log(\"Bokeh: BokehJS is being loaded, scheduling callback at\", now());\n      return null;\n    }\n    if (js_urls == null || js_urls.length === 0) {\n      run_callbacks();\n      return null;\n    }\n    console.log(\"Bokeh: BokehJS not loaded, scheduling load and callback at\", now());\n    root._bokeh_is_loading = js_urls.length;\n    for (var i = 0; i < js_urls.length; i++) {\n      var url = js_urls[i];\n      var s = document.createElement('script');\n      s.src = url;\n      s.async = false;\n      s.onreadystatechange = s.onload = function() {\n        root._bokeh_is_loading--;\n        if (root._bokeh_is_loading === 0) {\n          console.log(\"Bokeh: all BokehJS libraries loaded\");\n          run_callbacks()\n        }\n      };\n      s.onerror = function() {\n        console.warn(\"failed to load library \" + url);\n      };\n      console.log(\"Bokeh: injecting script tag for BokehJS library: \", url);\n      document.getElementsByTagName(\"head\")[0].appendChild(s);\n    }\n  };var element = document.getElementById(\"9baa0245-f6b2-4b36-b21a-4f294340ecc4\");\n  if (element == null) {\n    console.log(\"Bokeh: ERROR: autoload.js configured with elementid '9baa0245-f6b2-4b36-b21a-4f294340ecc4' but no matching script tag was found. \")\n    return false;\n  }\n\n  var js_urls = [\"https://cdn.pydata.org/bokeh/release/bokeh-0.12.9.min.js\", \"https://cdn.pydata.org/bokeh/release/bokeh-widgets-0.12.9.min.js\", \"https://cdn.pydata.org/bokeh/release/bokeh-tables-0.12.9.min.js\", \"https://cdn.pydata.org/bokeh/release/bokeh-gl-0.12.9.min.js\"];\n\n  var inline_js = [\n    function(Bokeh) {\n      Bokeh.set_log_level(\"info\");\n    },\n    \n    function(Bokeh) {\n      \n    },\n    function(Bokeh) {\n      console.log(\"Bokeh: injecting CSS: https://cdn.pydata.org/bokeh/release/bokeh-0.12.9.min.css\");\n      Bokeh.embed.inject_css(\"https://cdn.pydata.org/bokeh/release/bokeh-0.12.9.min.css\");\n      console.log(\"Bokeh: injecting CSS: https://cdn.pydata.org/bokeh/release/bokeh-widgets-0.12.9.min.css\");\n      Bokeh.embed.inject_css(\"https://cdn.pydata.org/bokeh/release/bokeh-widgets-0.12.9.min.css\");\n      console.log(\"Bokeh: injecting CSS: https://cdn.pydata.org/bokeh/release/bokeh-tables-0.12.9.min.css\");\n      Bokeh.embed.inject_css(\"https://cdn.pydata.org/bokeh/release/bokeh-tables-0.12.9.min.css\");\n    }\n  ];\n\n  function run_inline_js() {\n    \n    if ((root.Bokeh !== undefined) || (force === true)) {\n      for (var i = 0; i < inline_js.length; i++) {\n        inline_js[i].call(root, root.Bokeh);\n      }if (force === true) {\n        display_loaded();\n      }} else if (Date.now() < root._bokeh_timeout) {\n      setTimeout(run_inline_js, 100);\n    } else if (!root._bokeh_failed_load) {\n      console.log(\"Bokeh: BokehJS failed to load within specified timeout.\");\n      root._bokeh_failed_load = true;\n    } else if (force !== true) {\n      var cell = $(document.getElementById(\"9baa0245-f6b2-4b36-b21a-4f294340ecc4\")).parents('.cell').data().cell;\n      cell.output_area.append_execute_result(NB_LOAD_WARNING)\n    }\n\n  }\n\n  if (root._bokeh_is_loading === 0) {\n    console.log(\"Bokeh: BokehJS loaded, going straight to plotting\");\n    run_inline_js();\n  } else {\n    load_libs(js_urls, function() {\n      console.log(\"Bokeh: BokehJS plotting callback run at\", now());\n      run_inline_js();\n    });\n  }\n}(window));"
     },
     "metadata": {},
     "output_type": "display_data"
    }
   ],
   "source": [
    "output_notebook()"
   ]
  },
  {
   "cell_type": "code",
   "execution_count": 11,
   "metadata": {},
   "outputs": [],
   "source": [
    "p1 = figure(plot_width=250,plot_height = 250)"
   ]
  },
  {
   "cell_type": "code",
   "execution_count": 12,
   "metadata": {},
   "outputs": [],
   "source": [
    "r1 = p1.circle([1,2,3],[4,5,6],size = 20)"
   ]
  },
  {
   "cell_type": "code",
   "execution_count": 13,
   "metadata": {},
   "outputs": [],
   "source": [
    "p2 = figure(plot_width = 250, plot_height = 250)"
   ]
  },
  {
   "cell_type": "code",
   "execution_count": 14,
   "metadata": {},
   "outputs": [],
   "source": [
    "r2 = p2.circle([1,2,3],[4,5,6],size = 20)"
   ]
  },
  {
   "cell_type": "code",
   "execution_count": 15,
   "metadata": {},
   "outputs": [
    {
     "data": {
      "text/html": [
       "\n",
       "<div class=\"bk-root\">\n",
       "    <div class=\"bk-plotdiv\" id=\"4e5e4cd4-518f-483e-bfec-72ad1fa009e2\"></div>\n",
       "</div>"
      ]
     },
     "metadata": {},
     "output_type": "display_data"
    },
    {
     "data": {
      "application/javascript": [
       "(function(root) {\n",
       "  function embed_document(root) {\n",
       "    var docs_json = {\"67aaf6fe-b5d8-4a8b-baab-55be9b2783a2\":{\"roots\":{\"references\":[{\"attributes\":{\"formatter\":{\"id\":\"2296ca16-860a-4e27-8443-75ab35814f6e\",\"type\":\"BasicTickFormatter\"},\"plot\":{\"id\":\"b9c13da1-048c-4a7c-9364-4a0f4d24cf8f\",\"subtype\":\"Figure\",\"type\":\"Plot\"},\"ticker\":{\"id\":\"642780f6-d0e7-4c1f-8350-fe96b1b74103\",\"type\":\"BasicTicker\"}},\"id\":\"f5c03cc9-b7ff-4085-a6fa-b6c7c461ffb7\",\"type\":\"LinearAxis\"},{\"attributes\":{},\"id\":\"abc73f93-4e13-4589-ae53-bb55cfb74dab\",\"type\":\"LinearScale\"},{\"attributes\":{\"plot\":null,\"text\":\"\"},\"id\":\"dc5ff12a-3477-4fe3-8635-2279e7409b1c\",\"type\":\"Title\"},{\"attributes\":{\"active_drag\":\"auto\",\"active_inspect\":\"auto\",\"active_scroll\":\"auto\",\"active_tap\":\"auto\",\"tools\":[{\"id\":\"23d0d27b-631e-4a91-9a92-5090449997e9\",\"type\":\"PanTool\"},{\"id\":\"c229f318-7dd0-4afa-aa40-d823e59d3460\",\"type\":\"WheelZoomTool\"},{\"id\":\"7097596d-20e2-4680-ad27-e7653c20d0a6\",\"type\":\"BoxZoomTool\"},{\"id\":\"3913387f-31c6-4709-84e4-84a36d254cd0\",\"type\":\"SaveTool\"},{\"id\":\"64e6eb45-70e7-44c5-a1a7-90bec0b8cc08\",\"type\":\"ResetTool\"},{\"id\":\"49ac5ce0-e469-41b1-9133-41f0ca1fa702\",\"type\":\"HelpTool\"}]},\"id\":\"6a404f6e-67a7-444c-988b-efbe33db45db\",\"type\":\"Toolbar\"},{\"attributes\":{},\"id\":\"0af88c92-c30f-4672-9e94-5d4eb17aad10\",\"type\":\"ResetTool\"},{\"attributes\":{\"overlay\":{\"id\":\"33d743fc-3588-4c07-9c6b-3ff466129ee4\",\"type\":\"BoxAnnotation\"}},\"id\":\"7097596d-20e2-4680-ad27-e7653c20d0a6\",\"type\":\"BoxZoomTool\"},{\"attributes\":{},\"id\":\"4e5f5b3c-9d6e-4c93-8268-0881e679d021\",\"type\":\"LinearScale\"},{\"attributes\":{\"fill_color\":{\"value\":\"#1f77b4\"},\"line_color\":{\"value\":\"#1f77b4\"},\"size\":{\"units\":\"screen\",\"value\":20},\"x\":{\"field\":\"x\"},\"y\":{\"field\":\"y\"}},\"id\":\"4468fce3-5c93-47f7-9513-a16580383a17\",\"type\":\"Circle\"},{\"attributes\":{\"plot\":{\"id\":\"afee899c-c6a7-4a8c-9df3-95e0e710b6e7\",\"subtype\":\"Figure\",\"type\":\"Plot\"},\"ticker\":{\"id\":\"6576455d-ac6f-474c-9c84-a254fc09a1a6\",\"type\":\"BasicTicker\"}},\"id\":\"c94e66a2-ea48-4594-b598-537b00abb398\",\"type\":\"Grid\"},{\"attributes\":{\"dimension\":1,\"plot\":{\"id\":\"afee899c-c6a7-4a8c-9df3-95e0e710b6e7\",\"subtype\":\"Figure\",\"type\":\"Plot\"},\"ticker\":{\"id\":\"dab87368-5647-4772-870c-ee1acffaede7\",\"type\":\"BasicTicker\"}},\"id\":\"7c92b4ac-e5d2-4ffc-ad4e-4cd330e0b9b8\",\"type\":\"Grid\"},{\"attributes\":{},\"id\":\"3772ac8d-c132-4d59-90bb-54be563ec645\",\"type\":\"LinearScale\"},{\"attributes\":{\"fill_alpha\":{\"value\":0.1},\"fill_color\":{\"value\":\"#1f77b4\"},\"line_alpha\":{\"value\":0.1},\"line_color\":{\"value\":\"#1f77b4\"},\"size\":{\"units\":\"screen\",\"value\":20},\"x\":{\"field\":\"x\"},\"y\":{\"field\":\"y\"}},\"id\":\"aefd3541-8db3-406d-9d2f-f6cfd6ca4906\",\"type\":\"Circle\"},{\"attributes\":{},\"id\":\"23d0d27b-631e-4a91-9a92-5090449997e9\",\"type\":\"PanTool\"},{\"attributes\":{\"callback\":null},\"id\":\"a52cf785-f0c1-4538-ad64-d2c2d234a295\",\"type\":\"DataRange1d\"},{\"attributes\":{},\"id\":\"ff8fae0f-1fa5-4c04-9f41-6e93268bf867\",\"type\":\"BasicTickFormatter\"},{\"attributes\":{},\"id\":\"80ec4126-c1cb-46a4-8377-845a97efec85\",\"type\":\"SaveTool\"},{\"attributes\":{},\"id\":\"6576455d-ac6f-474c-9c84-a254fc09a1a6\",\"type\":\"BasicTicker\"},{\"attributes\":{},\"id\":\"642780f6-d0e7-4c1f-8350-fe96b1b74103\",\"type\":\"BasicTicker\"},{\"attributes\":{\"callback\":null,\"column_names\":[\"y\",\"x\"],\"data\":{\"x\":[1,2,3],\"y\":[4,5,6]}},\"id\":\"3d24d927-e8f8-45dc-af41-168f34d088b3\",\"type\":\"ColumnDataSource\"},{\"attributes\":{},\"id\":\"9249b71e-662b-4539-b1d4-3ad73fdef031\",\"type\":\"WheelZoomTool\"},{\"attributes\":{\"data_source\":{\"id\":\"407792ce-1c56-4d32-bcf6-66e439cf1b30\",\"type\":\"ColumnDataSource\"},\"glyph\":{\"id\":\"4468fce3-5c93-47f7-9513-a16580383a17\",\"type\":\"Circle\"},\"hover_glyph\":null,\"muted_glyph\":null,\"nonselection_glyph\":{\"id\":\"aefd3541-8db3-406d-9d2f-f6cfd6ca4906\",\"type\":\"Circle\"},\"selection_glyph\":null,\"view\":{\"id\":\"a4cffeb3-f4e5-4799-981d-d9e89e7b2212\",\"type\":\"CDSView\"}},\"id\":\"4cbe0050-28b0-42eb-a8e6-d434eda0f89f\",\"type\":\"GlyphRenderer\"},{\"attributes\":{\"callback\":null,\"column_names\":[\"y\",\"x\"],\"data\":{\"x\":[1,2,3],\"y\":[4,5,6]}},\"id\":\"407792ce-1c56-4d32-bcf6-66e439cf1b30\",\"type\":\"ColumnDataSource\"},{\"attributes\":{\"callback\":null},\"id\":\"ea311bc6-0dfa-44d8-a880-22ef34002276\",\"type\":\"DataRange1d\"},{\"attributes\":{\"source\":{\"id\":\"3d24d927-e8f8-45dc-af41-168f34d088b3\",\"type\":\"ColumnDataSource\"}},\"id\":\"7bee9b53-f4cd-481b-875e-521e4762f93b\",\"type\":\"CDSView\"},{\"attributes\":{\"formatter\":{\"id\":\"ff8fae0f-1fa5-4c04-9f41-6e93268bf867\",\"type\":\"BasicTickFormatter\"},\"plot\":{\"id\":\"afee899c-c6a7-4a8c-9df3-95e0e710b6e7\",\"subtype\":\"Figure\",\"type\":\"Plot\"},\"ticker\":{\"id\":\"6576455d-ac6f-474c-9c84-a254fc09a1a6\",\"type\":\"BasicTicker\"}},\"id\":\"916323ff-da6b-4399-b32a-a6b6eab1e669\",\"type\":\"LinearAxis\"},{\"attributes\":{},\"id\":\"c9d00d24-f05b-49a4-bfde-954604c626d2\",\"type\":\"PanTool\"},{\"attributes\":{\"fill_alpha\":{\"value\":0.1},\"fill_color\":{\"value\":\"#1f77b4\"},\"line_alpha\":{\"value\":0.1},\"line_color\":{\"value\":\"#1f77b4\"},\"size\":{\"units\":\"screen\",\"value\":20},\"x\":{\"field\":\"x\"},\"y\":{\"field\":\"y\"}},\"id\":\"da7f972f-76ca-47fd-a7e0-0d06d12895a9\",\"type\":\"Circle\"},{\"attributes\":{},\"id\":\"80072577-3292-4713-9b25-52c7764f50f5\",\"type\":\"HelpTool\"},{\"attributes\":{},\"id\":\"68520463-8d42-45de-83b9-520e834994d0\",\"type\":\"BasicTickFormatter\"},{\"attributes\":{\"data_source\":{\"id\":\"3d24d927-e8f8-45dc-af41-168f34d088b3\",\"type\":\"ColumnDataSource\"},\"glyph\":{\"id\":\"d37987bf-7291-4aa6-b935-749fd6c5934f\",\"type\":\"Circle\"},\"hover_glyph\":null,\"muted_glyph\":null,\"nonselection_glyph\":{\"id\":\"da7f972f-76ca-47fd-a7e0-0d06d12895a9\",\"type\":\"Circle\"},\"selection_glyph\":null,\"view\":{\"id\":\"7bee9b53-f4cd-481b-875e-521e4762f93b\",\"type\":\"CDSView\"}},\"id\":\"5de62e96-5de4-4b8a-b1b7-750ceb04d4cf\",\"type\":\"GlyphRenderer\"},{\"attributes\":{\"plot\":null,\"text\":\"\"},\"id\":\"f5734eff-a675-49d8-a56c-7b841e3d3b4e\",\"type\":\"Title\"},{\"attributes\":{},\"id\":\"5a1c972d-198d-4b71-ae72-1cf22c024e56\",\"type\":\"BasicTicker\"},{\"attributes\":{},\"id\":\"3913387f-31c6-4709-84e4-84a36d254cd0\",\"type\":\"SaveTool\"},{\"attributes\":{},\"id\":\"79efc10c-1363-48b3-aa48-f64de95d8693\",\"type\":\"BasicTickFormatter\"},{\"attributes\":{},\"id\":\"24f92f5a-336a-4353-a092-9132bf9cadf6\",\"type\":\"LinearScale\"},{\"attributes\":{\"overlay\":{\"id\":\"f252dc25-b9dd-4269-a6e0-837706468c31\",\"type\":\"BoxAnnotation\"}},\"id\":\"0c0c597a-495e-42ce-a8ee-6261c1670b1a\",\"type\":\"BoxZoomTool\"},{\"attributes\":{},\"id\":\"2296ca16-860a-4e27-8443-75ab35814f6e\",\"type\":\"BasicTickFormatter\"},{\"attributes\":{\"callback\":null},\"id\":\"f6e12dd3-187b-433e-b248-0ecdf913bfab\",\"type\":\"DataRange1d\"},{\"attributes\":{\"children\":[{\"id\":\"afee899c-c6a7-4a8c-9df3-95e0e710b6e7\",\"subtype\":\"Figure\",\"type\":\"Plot\"},{\"id\":\"b9c13da1-048c-4a7c-9364-4a0f4d24cf8f\",\"subtype\":\"Figure\",\"type\":\"Plot\"}]},\"id\":\"167c742c-6fd3-4767-a179-b3c282b35f14\",\"type\":\"Row\"},{\"attributes\":{\"formatter\":{\"id\":\"68520463-8d42-45de-83b9-520e834994d0\",\"type\":\"BasicTickFormatter\"},\"plot\":{\"id\":\"afee899c-c6a7-4a8c-9df3-95e0e710b6e7\",\"subtype\":\"Figure\",\"type\":\"Plot\"},\"ticker\":{\"id\":\"dab87368-5647-4772-870c-ee1acffaede7\",\"type\":\"BasicTicker\"}},\"id\":\"770855f0-714e-4b29-8edc-4f6185ca6244\",\"type\":\"LinearAxis\"},{\"attributes\":{},\"id\":\"49ac5ce0-e469-41b1-9133-41f0ca1fa702\",\"type\":\"HelpTool\"},{\"attributes\":{\"fill_color\":{\"value\":\"#1f77b4\"},\"line_color\":{\"value\":\"#1f77b4\"},\"size\":{\"units\":\"screen\",\"value\":20},\"x\":{\"field\":\"x\"},\"y\":{\"field\":\"y\"}},\"id\":\"d37987bf-7291-4aa6-b935-749fd6c5934f\",\"type\":\"Circle\"},{\"attributes\":{\"formatter\":{\"id\":\"79efc10c-1363-48b3-aa48-f64de95d8693\",\"type\":\"BasicTickFormatter\"},\"plot\":{\"id\":\"b9c13da1-048c-4a7c-9364-4a0f4d24cf8f\",\"subtype\":\"Figure\",\"type\":\"Plot\"},\"ticker\":{\"id\":\"5a1c972d-198d-4b71-ae72-1cf22c024e56\",\"type\":\"BasicTicker\"}},\"id\":\"c0b67002-fc89-44c2-9e93-2f821430ca14\",\"type\":\"LinearAxis\"},{\"attributes\":{\"bottom_units\":\"screen\",\"fill_alpha\":{\"value\":0.5},\"fill_color\":{\"value\":\"lightgrey\"},\"left_units\":\"screen\",\"level\":\"overlay\",\"line_alpha\":{\"value\":1.0},\"line_color\":{\"value\":\"black\"},\"line_dash\":[4,4],\"line_width\":{\"value\":2},\"plot\":null,\"render_mode\":\"css\",\"right_units\":\"screen\",\"top_units\":\"screen\"},\"id\":\"33d743fc-3588-4c07-9c6b-3ff466129ee4\",\"type\":\"BoxAnnotation\"},{\"attributes\":{\"below\":[{\"id\":\"916323ff-da6b-4399-b32a-a6b6eab1e669\",\"type\":\"LinearAxis\"}],\"left\":[{\"id\":\"770855f0-714e-4b29-8edc-4f6185ca6244\",\"type\":\"LinearAxis\"}],\"plot_height\":250,\"plot_width\":250,\"renderers\":[{\"id\":\"916323ff-da6b-4399-b32a-a6b6eab1e669\",\"type\":\"LinearAxis\"},{\"id\":\"c94e66a2-ea48-4594-b598-537b00abb398\",\"type\":\"Grid\"},{\"id\":\"770855f0-714e-4b29-8edc-4f6185ca6244\",\"type\":\"LinearAxis\"},{\"id\":\"7c92b4ac-e5d2-4ffc-ad4e-4cd330e0b9b8\",\"type\":\"Grid\"},{\"id\":\"33d743fc-3588-4c07-9c6b-3ff466129ee4\",\"type\":\"BoxAnnotation\"},{\"id\":\"5de62e96-5de4-4b8a-b1b7-750ceb04d4cf\",\"type\":\"GlyphRenderer\"}],\"title\":{\"id\":\"f5734eff-a675-49d8-a56c-7b841e3d3b4e\",\"type\":\"Title\"},\"toolbar\":{\"id\":\"6a404f6e-67a7-444c-988b-efbe33db45db\",\"type\":\"Toolbar\"},\"x_range\":{\"id\":\"a52cf785-f0c1-4538-ad64-d2c2d234a295\",\"type\":\"DataRange1d\"},\"x_scale\":{\"id\":\"3772ac8d-c132-4d59-90bb-54be563ec645\",\"type\":\"LinearScale\"},\"y_range\":{\"id\":\"8a9b8760-80ea-41b6-a376-e8e954ef1069\",\"type\":\"DataRange1d\"},\"y_scale\":{\"id\":\"4e5f5b3c-9d6e-4c93-8268-0881e679d021\",\"type\":\"LinearScale\"}},\"id\":\"afee899c-c6a7-4a8c-9df3-95e0e710b6e7\",\"subtype\":\"Figure\",\"type\":\"Plot\"},{\"attributes\":{},\"id\":\"64e6eb45-70e7-44c5-a1a7-90bec0b8cc08\",\"type\":\"ResetTool\"},{\"attributes\":{},\"id\":\"dab87368-5647-4772-870c-ee1acffaede7\",\"type\":\"BasicTicker\"},{\"attributes\":{},\"id\":\"c229f318-7dd0-4afa-aa40-d823e59d3460\",\"type\":\"WheelZoomTool\"},{\"attributes\":{\"callback\":null},\"id\":\"8a9b8760-80ea-41b6-a376-e8e954ef1069\",\"type\":\"DataRange1d\"},{\"attributes\":{\"source\":{\"id\":\"407792ce-1c56-4d32-bcf6-66e439cf1b30\",\"type\":\"ColumnDataSource\"}},\"id\":\"a4cffeb3-f4e5-4799-981d-d9e89e7b2212\",\"type\":\"CDSView\"},{\"attributes\":{\"bottom_units\":\"screen\",\"fill_alpha\":{\"value\":0.5},\"fill_color\":{\"value\":\"lightgrey\"},\"left_units\":\"screen\",\"level\":\"overlay\",\"line_alpha\":{\"value\":1.0},\"line_color\":{\"value\":\"black\"},\"line_dash\":[4,4],\"line_width\":{\"value\":2},\"plot\":null,\"render_mode\":\"css\",\"right_units\":\"screen\",\"top_units\":\"screen\"},\"id\":\"f252dc25-b9dd-4269-a6e0-837706468c31\",\"type\":\"BoxAnnotation\"},{\"attributes\":{\"below\":[{\"id\":\"c0b67002-fc89-44c2-9e93-2f821430ca14\",\"type\":\"LinearAxis\"}],\"left\":[{\"id\":\"f5c03cc9-b7ff-4085-a6fa-b6c7c461ffb7\",\"type\":\"LinearAxis\"}],\"plot_height\":250,\"plot_width\":250,\"renderers\":[{\"id\":\"c0b67002-fc89-44c2-9e93-2f821430ca14\",\"type\":\"LinearAxis\"},{\"id\":\"d74b4f2f-5941-4078-a03a-55a458e1854b\",\"type\":\"Grid\"},{\"id\":\"f5c03cc9-b7ff-4085-a6fa-b6c7c461ffb7\",\"type\":\"LinearAxis\"},{\"id\":\"3f05b6ea-52c9-41e1-b970-13b719ed804c\",\"type\":\"Grid\"},{\"id\":\"f252dc25-b9dd-4269-a6e0-837706468c31\",\"type\":\"BoxAnnotation\"},{\"id\":\"4cbe0050-28b0-42eb-a8e6-d434eda0f89f\",\"type\":\"GlyphRenderer\"}],\"title\":{\"id\":\"dc5ff12a-3477-4fe3-8635-2279e7409b1c\",\"type\":\"Title\"},\"toolbar\":{\"id\":\"77d42fa0-bc56-4834-b6ec-7e1dcd864384\",\"type\":\"Toolbar\"},\"x_range\":{\"id\":\"f6e12dd3-187b-433e-b248-0ecdf913bfab\",\"type\":\"DataRange1d\"},\"x_scale\":{\"id\":\"abc73f93-4e13-4589-ae53-bb55cfb74dab\",\"type\":\"LinearScale\"},\"y_range\":{\"id\":\"ea311bc6-0dfa-44d8-a880-22ef34002276\",\"type\":\"DataRange1d\"},\"y_scale\":{\"id\":\"24f92f5a-336a-4353-a092-9132bf9cadf6\",\"type\":\"LinearScale\"}},\"id\":\"b9c13da1-048c-4a7c-9364-4a0f4d24cf8f\",\"subtype\":\"Figure\",\"type\":\"Plot\"},{\"attributes\":{\"active_drag\":\"auto\",\"active_inspect\":\"auto\",\"active_scroll\":\"auto\",\"active_tap\":\"auto\",\"tools\":[{\"id\":\"c9d00d24-f05b-49a4-bfde-954604c626d2\",\"type\":\"PanTool\"},{\"id\":\"9249b71e-662b-4539-b1d4-3ad73fdef031\",\"type\":\"WheelZoomTool\"},{\"id\":\"0c0c597a-495e-42ce-a8ee-6261c1670b1a\",\"type\":\"BoxZoomTool\"},{\"id\":\"80ec4126-c1cb-46a4-8377-845a97efec85\",\"type\":\"SaveTool\"},{\"id\":\"0af88c92-c30f-4672-9e94-5d4eb17aad10\",\"type\":\"ResetTool\"},{\"id\":\"80072577-3292-4713-9b25-52c7764f50f5\",\"type\":\"HelpTool\"}]},\"id\":\"77d42fa0-bc56-4834-b6ec-7e1dcd864384\",\"type\":\"Toolbar\"},{\"attributes\":{\"plot\":{\"id\":\"b9c13da1-048c-4a7c-9364-4a0f4d24cf8f\",\"subtype\":\"Figure\",\"type\":\"Plot\"},\"ticker\":{\"id\":\"5a1c972d-198d-4b71-ae72-1cf22c024e56\",\"type\":\"BasicTicker\"}},\"id\":\"d74b4f2f-5941-4078-a03a-55a458e1854b\",\"type\":\"Grid\"},{\"attributes\":{\"dimension\":1,\"plot\":{\"id\":\"b9c13da1-048c-4a7c-9364-4a0f4d24cf8f\",\"subtype\":\"Figure\",\"type\":\"Plot\"},\"ticker\":{\"id\":\"642780f6-d0e7-4c1f-8350-fe96b1b74103\",\"type\":\"BasicTicker\"}},\"id\":\"3f05b6ea-52c9-41e1-b970-13b719ed804c\",\"type\":\"Grid\"}],\"root_ids\":[\"167c742c-6fd3-4767-a179-b3c282b35f14\"]},\"title\":\"Bokeh Application\",\"version\":\"0.12.9\"}};\n",
       "    var render_items = [{\"docid\":\"67aaf6fe-b5d8-4a8b-baab-55be9b2783a2\",\"elementid\":\"4e5e4cd4-518f-483e-bfec-72ad1fa009e2\",\"modelid\":\"167c742c-6fd3-4767-a179-b3c282b35f14\",\"notebook_comms_target\":\"bb04bcf4-359b-4a3e-ba83-9398bb7bc2dc\"}];\n",
       "\n",
       "    root.Bokeh.embed.embed_items(docs_json, render_items);\n",
       "  }\n",
       "\n",
       "  if (root.Bokeh !== undefined) {\n",
       "    embed_document(root);\n",
       "  } else {\n",
       "    var attempts = 0;\n",
       "    var timer = setInterval(function(root) {\n",
       "      if (root.Bokeh !== undefined) {\n",
       "        embed_document(root);\n",
       "        clearInterval(timer);\n",
       "      }\n",
       "      attempts++;\n",
       "      if (attempts > 100) {\n",
       "        console.log(\"Bokeh: ERROR: Unable to embed document because BokehJS library is missing\")\n",
       "        clearInterval(timer);\n",
       "      }\n",
       "    }, 10, root)\n",
       "  }\n",
       "})(window);"
      ],
      "application/vnd.bokehjs_exec.v0+json": ""
     },
     "metadata": {
      "application/vnd.bokehjs_exec.v0+json": {
       "id": "167c742c-6fd3-4767-a179-b3c282b35f14"
      }
     },
     "output_type": "display_data"
    }
   ],
   "source": [
    "t = show(row(p1,p2),notebook_handle = True)"
   ]
  },
  {
   "cell_type": "code",
   "execution_count": 18,
   "metadata": {},
   "outputs": [
    {
     "data": {
      "text/html": [
       "\n",
       "<div class=\"bk-root\">\n",
       "    <div class=\"bk-plotdiv\" id=\"da9cc8da-03e7-4517-8279-10f17a7d4bc9\"></div>\n",
       "</div>"
      ]
     },
     "metadata": {},
     "output_type": "display_data"
    },
    {
     "data": {
      "application/javascript": [
       "(function(root) {\n",
       "  function embed_document(root) {\n",
       "    var docs_json = {\"a5bc3852-06df-4cae-bd93-8fb8942dc6ad\":{\"roots\":{\"references\":[{\"attributes\":{\"formatter\":{\"id\":\"2296ca16-860a-4e27-8443-75ab35814f6e\",\"type\":\"BasicTickFormatter\"},\"plot\":{\"id\":\"b9c13da1-048c-4a7c-9364-4a0f4d24cf8f\",\"subtype\":\"Figure\",\"type\":\"Plot\"},\"ticker\":{\"id\":\"642780f6-d0e7-4c1f-8350-fe96b1b74103\",\"type\":\"BasicTicker\"}},\"id\":\"f5c03cc9-b7ff-4085-a6fa-b6c7c461ffb7\",\"type\":\"LinearAxis\"},{\"attributes\":{},\"id\":\"abc73f93-4e13-4589-ae53-bb55cfb74dab\",\"type\":\"LinearScale\"},{\"attributes\":{\"plot\":null,\"text\":\"\"},\"id\":\"dc5ff12a-3477-4fe3-8635-2279e7409b1c\",\"type\":\"Title\"},{\"attributes\":{\"active_drag\":\"auto\",\"active_inspect\":\"auto\",\"active_scroll\":\"auto\",\"active_tap\":\"auto\",\"tools\":[{\"id\":\"23d0d27b-631e-4a91-9a92-5090449997e9\",\"type\":\"PanTool\"},{\"id\":\"c229f318-7dd0-4afa-aa40-d823e59d3460\",\"type\":\"WheelZoomTool\"},{\"id\":\"7097596d-20e2-4680-ad27-e7653c20d0a6\",\"type\":\"BoxZoomTool\"},{\"id\":\"3913387f-31c6-4709-84e4-84a36d254cd0\",\"type\":\"SaveTool\"},{\"id\":\"64e6eb45-70e7-44c5-a1a7-90bec0b8cc08\",\"type\":\"ResetTool\"},{\"id\":\"49ac5ce0-e469-41b1-9133-41f0ca1fa702\",\"type\":\"HelpTool\"}]},\"id\":\"6a404f6e-67a7-444c-988b-efbe33db45db\",\"type\":\"Toolbar\"},{\"attributes\":{},\"id\":\"0af88c92-c30f-4672-9e94-5d4eb17aad10\",\"type\":\"ResetTool\"},{\"attributes\":{\"overlay\":{\"id\":\"33d743fc-3588-4c07-9c6b-3ff466129ee4\",\"type\":\"BoxAnnotation\"}},\"id\":\"7097596d-20e2-4680-ad27-e7653c20d0a6\",\"type\":\"BoxZoomTool\"},{\"attributes\":{},\"id\":\"4e5f5b3c-9d6e-4c93-8268-0881e679d021\",\"type\":\"LinearScale\"},{\"attributes\":{\"fill_color\":{\"value\":\"#1f77b4\"},\"line_color\":{\"value\":\"#1f77b4\"},\"size\":{\"units\":\"screen\",\"value\":20},\"x\":{\"field\":\"x\"},\"y\":{\"field\":\"y\"}},\"id\":\"4468fce3-5c93-47f7-9513-a16580383a17\",\"type\":\"Circle\"},{\"attributes\":{\"plot\":{\"id\":\"afee899c-c6a7-4a8c-9df3-95e0e710b6e7\",\"subtype\":\"Figure\",\"type\":\"Plot\"},\"ticker\":{\"id\":\"6576455d-ac6f-474c-9c84-a254fc09a1a6\",\"type\":\"BasicTicker\"}},\"id\":\"c94e66a2-ea48-4594-b598-537b00abb398\",\"type\":\"Grid\"},{\"attributes\":{\"dimension\":1,\"plot\":{\"id\":\"afee899c-c6a7-4a8c-9df3-95e0e710b6e7\",\"subtype\":\"Figure\",\"type\":\"Plot\"},\"ticker\":{\"id\":\"dab87368-5647-4772-870c-ee1acffaede7\",\"type\":\"BasicTicker\"}},\"id\":\"7c92b4ac-e5d2-4ffc-ad4e-4cd330e0b9b8\",\"type\":\"Grid\"},{\"attributes\":{},\"id\":\"3772ac8d-c132-4d59-90bb-54be563ec645\",\"type\":\"LinearScale\"},{\"attributes\":{\"fill_alpha\":{\"value\":0.1},\"fill_color\":{\"value\":\"#1f77b4\"},\"line_alpha\":{\"value\":0.1},\"line_color\":{\"value\":\"#1f77b4\"},\"size\":{\"units\":\"screen\",\"value\":20},\"x\":{\"field\":\"x\"},\"y\":{\"field\":\"y\"}},\"id\":\"aefd3541-8db3-406d-9d2f-f6cfd6ca4906\",\"type\":\"Circle\"},{\"attributes\":{},\"id\":\"23d0d27b-631e-4a91-9a92-5090449997e9\",\"type\":\"PanTool\"},{\"attributes\":{\"callback\":null},\"id\":\"a52cf785-f0c1-4538-ad64-d2c2d234a295\",\"type\":\"DataRange1d\"},{\"attributes\":{\"plot\":null,\"text\":\"\"},\"id\":\"f5734eff-a675-49d8-a56c-7b841e3d3b4e\",\"type\":\"Title\"},{\"attributes\":{},\"id\":\"80ec4126-c1cb-46a4-8377-845a97efec85\",\"type\":\"SaveTool\"},{\"attributes\":{},\"id\":\"6576455d-ac6f-474c-9c84-a254fc09a1a6\",\"type\":\"BasicTicker\"},{\"attributes\":{},\"id\":\"642780f6-d0e7-4c1f-8350-fe96b1b74103\",\"type\":\"BasicTicker\"},{\"attributes\":{\"callback\":null,\"column_names\":[\"y\",\"x\"],\"data\":{\"x\":[1,2,3],\"y\":[4,5,6]}},\"id\":\"3d24d927-e8f8-45dc-af41-168f34d088b3\",\"type\":\"ColumnDataSource\"},{\"attributes\":{},\"id\":\"9249b71e-662b-4539-b1d4-3ad73fdef031\",\"type\":\"WheelZoomTool\"},{\"attributes\":{\"data_source\":{\"id\":\"407792ce-1c56-4d32-bcf6-66e439cf1b30\",\"type\":\"ColumnDataSource\"},\"glyph\":{\"id\":\"4468fce3-5c93-47f7-9513-a16580383a17\",\"type\":\"Circle\"},\"hover_glyph\":null,\"muted_glyph\":null,\"nonselection_glyph\":{\"id\":\"aefd3541-8db3-406d-9d2f-f6cfd6ca4906\",\"type\":\"Circle\"},\"selection_glyph\":null,\"view\":{\"id\":\"a4cffeb3-f4e5-4799-981d-d9e89e7b2212\",\"type\":\"CDSView\"}},\"id\":\"4cbe0050-28b0-42eb-a8e6-d434eda0f89f\",\"type\":\"GlyphRenderer\"},{\"attributes\":{\"callback\":null,\"column_names\":[\"y\",\"x\"],\"data\":{\"x\":[1,2,3],\"y\":[4,5,6]}},\"id\":\"407792ce-1c56-4d32-bcf6-66e439cf1b30\",\"type\":\"ColumnDataSource\"},{\"attributes\":{\"callback\":null},\"id\":\"ea311bc6-0dfa-44d8-a880-22ef34002276\",\"type\":\"DataRange1d\"},{\"attributes\":{\"source\":{\"id\":\"3d24d927-e8f8-45dc-af41-168f34d088b3\",\"type\":\"ColumnDataSource\"}},\"id\":\"7bee9b53-f4cd-481b-875e-521e4762f93b\",\"type\":\"CDSView\"},{\"attributes\":{\"formatter\":{\"id\":\"ff8fae0f-1fa5-4c04-9f41-6e93268bf867\",\"type\":\"BasicTickFormatter\"},\"plot\":{\"id\":\"afee899c-c6a7-4a8c-9df3-95e0e710b6e7\",\"subtype\":\"Figure\",\"type\":\"Plot\"},\"ticker\":{\"id\":\"6576455d-ac6f-474c-9c84-a254fc09a1a6\",\"type\":\"BasicTicker\"}},\"id\":\"916323ff-da6b-4399-b32a-a6b6eab1e669\",\"type\":\"LinearAxis\"},{\"attributes\":{},\"id\":\"c9d00d24-f05b-49a4-bfde-954604c626d2\",\"type\":\"PanTool\"},{\"attributes\":{\"fill_alpha\":{\"value\":0.1},\"fill_color\":{\"value\":\"#1f77b4\"},\"line_alpha\":{\"value\":0.1},\"line_color\":{\"value\":\"#1f77b4\"},\"size\":{\"units\":\"screen\",\"value\":20},\"x\":{\"field\":\"x\"},\"y\":{\"field\":\"y\"}},\"id\":\"da7f972f-76ca-47fd-a7e0-0d06d12895a9\",\"type\":\"Circle\"},{\"attributes\":{},\"id\":\"80072577-3292-4713-9b25-52c7764f50f5\",\"type\":\"HelpTool\"},{\"attributes\":{},\"id\":\"68520463-8d42-45de-83b9-520e834994d0\",\"type\":\"BasicTickFormatter\"},{\"attributes\":{\"data_source\":{\"id\":\"3d24d927-e8f8-45dc-af41-168f34d088b3\",\"type\":\"ColumnDataSource\"},\"glyph\":{\"id\":\"d37987bf-7291-4aa6-b935-749fd6c5934f\",\"type\":\"Circle\"},\"hover_glyph\":null,\"muted_glyph\":null,\"nonselection_glyph\":{\"id\":\"da7f972f-76ca-47fd-a7e0-0d06d12895a9\",\"type\":\"Circle\"},\"selection_glyph\":null,\"view\":{\"id\":\"7bee9b53-f4cd-481b-875e-521e4762f93b\",\"type\":\"CDSView\"}},\"id\":\"5de62e96-5de4-4b8a-b1b7-750ceb04d4cf\",\"type\":\"GlyphRenderer\"},{\"attributes\":{},\"id\":\"ff8fae0f-1fa5-4c04-9f41-6e93268bf867\",\"type\":\"BasicTickFormatter\"},{\"attributes\":{},\"id\":\"5a1c972d-198d-4b71-ae72-1cf22c024e56\",\"type\":\"BasicTicker\"},{\"attributes\":{},\"id\":\"3913387f-31c6-4709-84e4-84a36d254cd0\",\"type\":\"SaveTool\"},{\"attributes\":{},\"id\":\"79efc10c-1363-48b3-aa48-f64de95d8693\",\"type\":\"BasicTickFormatter\"},{\"attributes\":{},\"id\":\"24f92f5a-336a-4353-a092-9132bf9cadf6\",\"type\":\"LinearScale\"},{\"attributes\":{\"overlay\":{\"id\":\"f252dc25-b9dd-4269-a6e0-837706468c31\",\"type\":\"BoxAnnotation\"}},\"id\":\"0c0c597a-495e-42ce-a8ee-6261c1670b1a\",\"type\":\"BoxZoomTool\"},{\"attributes\":{},\"id\":\"2296ca16-860a-4e27-8443-75ab35814f6e\",\"type\":\"BasicTickFormatter\"},{\"attributes\":{\"callback\":null},\"id\":\"f6e12dd3-187b-433e-b248-0ecdf913bfab\",\"type\":\"DataRange1d\"},{\"attributes\":{\"formatter\":{\"id\":\"68520463-8d42-45de-83b9-520e834994d0\",\"type\":\"BasicTickFormatter\"},\"plot\":{\"id\":\"afee899c-c6a7-4a8c-9df3-95e0e710b6e7\",\"subtype\":\"Figure\",\"type\":\"Plot\"},\"ticker\":{\"id\":\"dab87368-5647-4772-870c-ee1acffaede7\",\"type\":\"BasicTicker\"}},\"id\":\"770855f0-714e-4b29-8edc-4f6185ca6244\",\"type\":\"LinearAxis\"},{\"attributes\":{},\"id\":\"49ac5ce0-e469-41b1-9133-41f0ca1fa702\",\"type\":\"HelpTool\"},{\"attributes\":{\"fill_color\":{\"value\":\"#1f77b4\"},\"line_color\":{\"value\":\"#1f77b4\"},\"size\":{\"units\":\"screen\",\"value\":20},\"x\":{\"field\":\"x\"},\"y\":{\"field\":\"y\"}},\"id\":\"d37987bf-7291-4aa6-b935-749fd6c5934f\",\"type\":\"Circle\"},{\"attributes\":{\"formatter\":{\"id\":\"79efc10c-1363-48b3-aa48-f64de95d8693\",\"type\":\"BasicTickFormatter\"},\"plot\":{\"id\":\"b9c13da1-048c-4a7c-9364-4a0f4d24cf8f\",\"subtype\":\"Figure\",\"type\":\"Plot\"},\"ticker\":{\"id\":\"5a1c972d-198d-4b71-ae72-1cf22c024e56\",\"type\":\"BasicTicker\"}},\"id\":\"c0b67002-fc89-44c2-9e93-2f821430ca14\",\"type\":\"LinearAxis\"},{\"attributes\":{\"bottom_units\":\"screen\",\"fill_alpha\":{\"value\":0.5},\"fill_color\":{\"value\":\"lightgrey\"},\"left_units\":\"screen\",\"level\":\"overlay\",\"line_alpha\":{\"value\":1.0},\"line_color\":{\"value\":\"black\"},\"line_dash\":[4,4],\"line_width\":{\"value\":2},\"plot\":null,\"render_mode\":\"css\",\"right_units\":\"screen\",\"top_units\":\"screen\"},\"id\":\"33d743fc-3588-4c07-9c6b-3ff466129ee4\",\"type\":\"BoxAnnotation\"},{\"attributes\":{\"below\":[{\"id\":\"916323ff-da6b-4399-b32a-a6b6eab1e669\",\"type\":\"LinearAxis\"}],\"left\":[{\"id\":\"770855f0-714e-4b29-8edc-4f6185ca6244\",\"type\":\"LinearAxis\"}],\"plot_height\":250,\"plot_width\":250,\"renderers\":[{\"id\":\"916323ff-da6b-4399-b32a-a6b6eab1e669\",\"type\":\"LinearAxis\"},{\"id\":\"c94e66a2-ea48-4594-b598-537b00abb398\",\"type\":\"Grid\"},{\"id\":\"770855f0-714e-4b29-8edc-4f6185ca6244\",\"type\":\"LinearAxis\"},{\"id\":\"7c92b4ac-e5d2-4ffc-ad4e-4cd330e0b9b8\",\"type\":\"Grid\"},{\"id\":\"33d743fc-3588-4c07-9c6b-3ff466129ee4\",\"type\":\"BoxAnnotation\"},{\"id\":\"5de62e96-5de4-4b8a-b1b7-750ceb04d4cf\",\"type\":\"GlyphRenderer\"}],\"title\":{\"id\":\"f5734eff-a675-49d8-a56c-7b841e3d3b4e\",\"type\":\"Title\"},\"toolbar\":{\"id\":\"6a404f6e-67a7-444c-988b-efbe33db45db\",\"type\":\"Toolbar\"},\"x_range\":{\"id\":\"a52cf785-f0c1-4538-ad64-d2c2d234a295\",\"type\":\"DataRange1d\"},\"x_scale\":{\"id\":\"3772ac8d-c132-4d59-90bb-54be563ec645\",\"type\":\"LinearScale\"},\"y_range\":{\"id\":\"8a9b8760-80ea-41b6-a376-e8e954ef1069\",\"type\":\"DataRange1d\"},\"y_scale\":{\"id\":\"4e5f5b3c-9d6e-4c93-8268-0881e679d021\",\"type\":\"LinearScale\"}},\"id\":\"afee899c-c6a7-4a8c-9df3-95e0e710b6e7\",\"subtype\":\"Figure\",\"type\":\"Plot\"},{\"attributes\":{},\"id\":\"64e6eb45-70e7-44c5-a1a7-90bec0b8cc08\",\"type\":\"ResetTool\"},{\"attributes\":{},\"id\":\"dab87368-5647-4772-870c-ee1acffaede7\",\"type\":\"BasicTicker\"},{\"attributes\":{},\"id\":\"c229f318-7dd0-4afa-aa40-d823e59d3460\",\"type\":\"WheelZoomTool\"},{\"attributes\":{\"callback\":null},\"id\":\"8a9b8760-80ea-41b6-a376-e8e954ef1069\",\"type\":\"DataRange1d\"},{\"attributes\":{\"source\":{\"id\":\"407792ce-1c56-4d32-bcf6-66e439cf1b30\",\"type\":\"ColumnDataSource\"}},\"id\":\"a4cffeb3-f4e5-4799-981d-d9e89e7b2212\",\"type\":\"CDSView\"},{\"attributes\":{\"bottom_units\":\"screen\",\"fill_alpha\":{\"value\":0.5},\"fill_color\":{\"value\":\"lightgrey\"},\"left_units\":\"screen\",\"level\":\"overlay\",\"line_alpha\":{\"value\":1.0},\"line_color\":{\"value\":\"black\"},\"line_dash\":[4,4],\"line_width\":{\"value\":2},\"plot\":null,\"render_mode\":\"css\",\"right_units\":\"screen\",\"top_units\":\"screen\"},\"id\":\"f252dc25-b9dd-4269-a6e0-837706468c31\",\"type\":\"BoxAnnotation\"},{\"attributes\":{\"below\":[{\"id\":\"c0b67002-fc89-44c2-9e93-2f821430ca14\",\"type\":\"LinearAxis\"}],\"left\":[{\"id\":\"f5c03cc9-b7ff-4085-a6fa-b6c7c461ffb7\",\"type\":\"LinearAxis\"}],\"plot_height\":250,\"plot_width\":250,\"renderers\":[{\"id\":\"c0b67002-fc89-44c2-9e93-2f821430ca14\",\"type\":\"LinearAxis\"},{\"id\":\"d74b4f2f-5941-4078-a03a-55a458e1854b\",\"type\":\"Grid\"},{\"id\":\"f5c03cc9-b7ff-4085-a6fa-b6c7c461ffb7\",\"type\":\"LinearAxis\"},{\"id\":\"3f05b6ea-52c9-41e1-b970-13b719ed804c\",\"type\":\"Grid\"},{\"id\":\"f252dc25-b9dd-4269-a6e0-837706468c31\",\"type\":\"BoxAnnotation\"},{\"id\":\"4cbe0050-28b0-42eb-a8e6-d434eda0f89f\",\"type\":\"GlyphRenderer\"}],\"title\":{\"id\":\"dc5ff12a-3477-4fe3-8635-2279e7409b1c\",\"type\":\"Title\"},\"toolbar\":{\"id\":\"77d42fa0-bc56-4834-b6ec-7e1dcd864384\",\"type\":\"Toolbar\"},\"x_range\":{\"id\":\"f6e12dd3-187b-433e-b248-0ecdf913bfab\",\"type\":\"DataRange1d\"},\"x_scale\":{\"id\":\"abc73f93-4e13-4589-ae53-bb55cfb74dab\",\"type\":\"LinearScale\"},\"y_range\":{\"id\":\"ea311bc6-0dfa-44d8-a880-22ef34002276\",\"type\":\"DataRange1d\"},\"y_scale\":{\"id\":\"24f92f5a-336a-4353-a092-9132bf9cadf6\",\"type\":\"LinearScale\"}},\"id\":\"b9c13da1-048c-4a7c-9364-4a0f4d24cf8f\",\"subtype\":\"Figure\",\"type\":\"Plot\"},{\"attributes\":{\"active_drag\":\"auto\",\"active_inspect\":\"auto\",\"active_scroll\":\"auto\",\"active_tap\":\"auto\",\"tools\":[{\"id\":\"c9d00d24-f05b-49a4-bfde-954604c626d2\",\"type\":\"PanTool\"},{\"id\":\"9249b71e-662b-4539-b1d4-3ad73fdef031\",\"type\":\"WheelZoomTool\"},{\"id\":\"0c0c597a-495e-42ce-a8ee-6261c1670b1a\",\"type\":\"BoxZoomTool\"},{\"id\":\"80ec4126-c1cb-46a4-8377-845a97efec85\",\"type\":\"SaveTool\"},{\"id\":\"0af88c92-c30f-4672-9e94-5d4eb17aad10\",\"type\":\"ResetTool\"},{\"id\":\"80072577-3292-4713-9b25-52c7764f50f5\",\"type\":\"HelpTool\"}]},\"id\":\"77d42fa0-bc56-4834-b6ec-7e1dcd864384\",\"type\":\"Toolbar\"},{\"attributes\":{\"plot\":{\"id\":\"b9c13da1-048c-4a7c-9364-4a0f4d24cf8f\",\"subtype\":\"Figure\",\"type\":\"Plot\"},\"ticker\":{\"id\":\"5a1c972d-198d-4b71-ae72-1cf22c024e56\",\"type\":\"BasicTicker\"}},\"id\":\"d74b4f2f-5941-4078-a03a-55a458e1854b\",\"type\":\"Grid\"},{\"attributes\":{\"children\":[{\"id\":\"afee899c-c6a7-4a8c-9df3-95e0e710b6e7\",\"subtype\":\"Figure\",\"type\":\"Plot\"},{\"id\":\"b9c13da1-048c-4a7c-9364-4a0f4d24cf8f\",\"subtype\":\"Figure\",\"type\":\"Plot\"}]},\"id\":\"50471878-ab77-439a-9959-13b1b76dd33e\",\"type\":\"Row\"},{\"attributes\":{\"dimension\":1,\"plot\":{\"id\":\"b9c13da1-048c-4a7c-9364-4a0f4d24cf8f\",\"subtype\":\"Figure\",\"type\":\"Plot\"},\"ticker\":{\"id\":\"642780f6-d0e7-4c1f-8350-fe96b1b74103\",\"type\":\"BasicTicker\"}},\"id\":\"3f05b6ea-52c9-41e1-b970-13b719ed804c\",\"type\":\"Grid\"}],\"root_ids\":[\"50471878-ab77-439a-9959-13b1b76dd33e\"]},\"title\":\"Bokeh Application\",\"version\":\"0.12.9\"}};\n",
       "    var render_items = [{\"docid\":\"a5bc3852-06df-4cae-bd93-8fb8942dc6ad\",\"elementid\":\"da9cc8da-03e7-4517-8279-10f17a7d4bc9\",\"modelid\":\"50471878-ab77-439a-9959-13b1b76dd33e\",\"notebook_comms_target\":\"17557600-240c-492a-8194-be166d6bcde5\"}];\n",
       "\n",
       "    root.Bokeh.embed.embed_items(docs_json, render_items);\n",
       "  }\n",
       "\n",
       "  if (root.Bokeh !== undefined) {\n",
       "    embed_document(root);\n",
       "  } else {\n",
       "    var attempts = 0;\n",
       "    var timer = setInterval(function(root) {\n",
       "      if (root.Bokeh !== undefined) {\n",
       "        embed_document(root);\n",
       "        clearInterval(timer);\n",
       "      }\n",
       "      attempts++;\n",
       "      if (attempts > 100) {\n",
       "        console.log(\"Bokeh: ERROR: Unable to embed document because BokehJS library is missing\")\n",
       "        clearInterval(timer);\n",
       "      }\n",
       "    }, 10, root)\n",
       "  }\n",
       "})(window);"
      ],
      "application/vnd.bokehjs_exec.v0+json": ""
     },
     "metadata": {
      "application/vnd.bokehjs_exec.v0+json": {
       "id": "50471878-ab77-439a-9959-13b1b76dd33e"
      }
     },
     "output_type": "display_data"
    }
   ],
   "source": [
    "t2 = show(row(p1,p2),notebook_handle = True)"
   ]
  }
 ],
 "metadata": {
  "kernelspec": {
   "display_name": "Python 3",
   "language": "python",
   "name": "python3"
  },
  "language_info": {
   "codemirror_mode": {
    "name": "ipython",
    "version": 3
   },
   "file_extension": ".py",
   "mimetype": "text/x-python",
   "name": "python",
   "nbconvert_exporter": "python",
   "pygments_lexer": "ipython3",
   "version": "3.5.2"
  }
 },
 "nbformat": 4,
 "nbformat_minor": 2
}
